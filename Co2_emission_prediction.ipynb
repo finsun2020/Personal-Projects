{
 "cells": [
  {
   "cell_type": "markdown",
   "metadata": {},
   "source": [
    "# <center>CO2 Emission Prediction</center>"
   ]
  },
  {
   "cell_type": "markdown",
   "metadata": {},
   "source": [
    "In this project we will develop a model to predict the co2 emission from cars. We will develop 2 models and evaluate both of them and select the model based on the score. We will use **sklearn-LinearRegression** and **XGBOOST**. "
   ]
  },
  {
   "cell_type": "markdown",
   "metadata": {},
   "source": [
    "The data is a fuel consumption dataset, which contains model-specific fuel consumption ratings and estimated carbon dioxide emissions for new light-duty vehicles for retail sale in Canada."
   ]
  },
  {
   "cell_type": "markdown",
   "metadata": {},
   "source": [
    "# Understanding Data\n",
    "\n",
    "## FuelConsumption.csv\n",
    "\n",
    "The dataset consists of the following features:\n",
    "\n",
    "**- MODELYEAR**\n",
    "<br>\n",
    "**- MAKE**\n",
    "<br>\n",
    "**- MODEL**\n",
    "<br>\n",
    "**- VEHICLE CLASS**\n",
    "<br>\n",
    "**- ENGINE SIZE**\n",
    "<br>\n",
    "**- CYLINDERS**\n",
    "<br>\n",
    "**- TRANSMISSION**\n",
    "<br>\n",
    "**- FUELTYPE**\n",
    "<br>\n",
    "**- FUEL CONSUMPTION IN CITY**\n",
    "<br>\n",
    "**- FUEL CONSUMPTION IN HWY**\n",
    "<br>\n",
    "**- FUEL CONSUMPTION COMB**\n",
    "<br>\n",
    "**- CO2 EMISSIONS**"
   ]
  },
  {
   "cell_type": "code",
   "execution_count": 2,
   "metadata": {
    "scrolled": true
   },
   "outputs": [
    {
     "name": "stdout",
     "output_type": "stream",
     "text": [
      "Collecting package metadata (current_repodata.json): done\n",
      "Solving environment: done\n",
      "\n",
      "## Package Plan ##\n",
      "\n",
      "  environment location: /Users/finneysunny/opt/anaconda3\n",
      "\n",
      "  added / updated specs:\n",
      "    - wget\n",
      "\n",
      "\n",
      "The following packages will be downloaded:\n",
      "\n",
      "    package                    |            build\n",
      "    ---------------------------|-----------------\n",
      "    ca-certificates-2019.8.28  |                0         133 KB  anaconda\n",
      "    certifi-2019.9.11          |           py37_0         154 KB  anaconda\n",
      "    conda-4.8.1                |           py37_0         3.0 MB  anaconda\n",
      "    openssl-1.1.1d             |       h1de35cc_2         3.4 MB  anaconda\n",
      "    wget-1.20.1                |       h051b688_0         478 KB  anaconda\n",
      "    ------------------------------------------------------------\n",
      "                                           Total:         7.2 MB\n",
      "\n",
      "The following NEW packages will be INSTALLED:\n",
      "\n",
      "  wget               anaconda/osx-64::wget-1.20.1-h051b688_0\n",
      "\n",
      "The following packages will be UPDATED:\n",
      "\n",
      "  conda                     conda-forge::conda-4.8.0-py37_1 --> anaconda::conda-4.8.1-py37_0\n",
      "\n",
      "The following packages will be SUPERSEDED by a higher-priority channel:\n",
      "\n",
      "  ca-certificates                                 pkgs/main --> anaconda\n",
      "  certifi                                         pkgs/main --> anaconda\n",
      "  openssl                                         pkgs/main --> anaconda\n",
      "\n",
      "\n",
      "\n",
      "Downloading and Extracting Packages\n",
      "openssl-1.1.1d       | 3.4 MB    | ##################################### | 100% \n",
      "conda-4.8.1          | 3.0 MB    | ##################################### | 100% \n",
      "ca-certificates-2019 | 133 KB    | ##################################### | 100% \n",
      "certifi-2019.9.11    | 154 KB    | ##################################### | 100% \n",
      "wget-1.20.1          | 478 KB    | ##################################### | 100% \n",
      "Preparing transaction: done\n",
      "Verifying transaction: done\n",
      "Executing transaction: done\n",
      "\n",
      "Note: you may need to restart the kernel to use updated packages.\n"
     ]
    }
   ],
   "source": [
    "conda install -c anaconda wget"
   ]
  },
  {
   "cell_type": "code",
   "execution_count": 5,
   "metadata": {},
   "outputs": [],
   "source": [
    "import pandas as pd\n",
    "import numpy as np\n",
    "import seaborn as sns\n",
    "import matplotlib.pyplot as plt\n",
    "%matplotlib inline"
   ]
  },
  {
   "cell_type": "code",
   "execution_count": 8,
   "metadata": {},
   "outputs": [],
   "source": [
    "import sklearn as sk"
   ]
  },
  {
   "cell_type": "code",
   "execution_count": 9,
   "metadata": {},
   "outputs": [],
   "source": [
    "from sklearn.model_selection import train_test_split"
   ]
  },
  {
   "cell_type": "code",
   "execution_count": 3,
   "metadata": {
    "scrolled": true
   },
   "outputs": [
    {
     "name": "stdout",
     "output_type": "stream",
     "text": [
      "--2020-01-17 12:45:40--  https://s3-api.us-geo.objectstorage.softlayer.net/cf-courses-data/CognitiveClass/ML0101ENv3/labs/FuelConsumptionCo2.csv\n",
      "Resolving s3-api.us-geo.objectstorage.softlayer.net... 67.228.254.196\n",
      "Connecting to s3-api.us-geo.objectstorage.softlayer.net|67.228.254.196|:443... connected.\n",
      "HTTP request sent, awaiting response... 200 OK\n",
      "Length: 72629 (71K) [text/csv]\n",
      "Saving to: 'FuelConsumption.csv'\n",
      "\n",
      "FuelConsumption.csv 100%[===================>]  70.93K   365KB/s    in 0.2s    \n",
      "\n",
      "2020-01-17 12:45:41 (365 KB/s) - 'FuelConsumption.csv' saved [72629/72629]\n",
      "\n"
     ]
    }
   ],
   "source": [
    "!wget -O FuelConsumption.csv https://s3-api.us-geo.objectstorage.softlayer.net/cf-courses-data/CognitiveClass/ML0101ENv3/labs/FuelConsumptionCo2.csv"
   ]
  },
  {
   "cell_type": "code",
   "execution_count": 6,
   "metadata": {
    "scrolled": true
   },
   "outputs": [
    {
     "data": {
      "text/html": [
       "<div>\n",
       "<style scoped>\n",
       "    .dataframe tbody tr th:only-of-type {\n",
       "        vertical-align: middle;\n",
       "    }\n",
       "\n",
       "    .dataframe tbody tr th {\n",
       "        vertical-align: top;\n",
       "    }\n",
       "\n",
       "    .dataframe thead th {\n",
       "        text-align: right;\n",
       "    }\n",
       "</style>\n",
       "<table border=\"1\" class=\"dataframe\">\n",
       "  <thead>\n",
       "    <tr style=\"text-align: right;\">\n",
       "      <th></th>\n",
       "      <th>MODELYEAR</th>\n",
       "      <th>MAKE</th>\n",
       "      <th>MODEL</th>\n",
       "      <th>VEHICLECLASS</th>\n",
       "      <th>ENGINESIZE</th>\n",
       "      <th>CYLINDERS</th>\n",
       "      <th>TRANSMISSION</th>\n",
       "      <th>FUELTYPE</th>\n",
       "      <th>FUELCONSUMPTION_CITY</th>\n",
       "      <th>FUELCONSUMPTION_HWY</th>\n",
       "      <th>FUELCONSUMPTION_COMB</th>\n",
       "      <th>FUELCONSUMPTION_COMB_MPG</th>\n",
       "      <th>CO2EMISSIONS</th>\n",
       "    </tr>\n",
       "  </thead>\n",
       "  <tbody>\n",
       "    <tr>\n",
       "      <td>0</td>\n",
       "      <td>2014</td>\n",
       "      <td>ACURA</td>\n",
       "      <td>ILX</td>\n",
       "      <td>COMPACT</td>\n",
       "      <td>2.0</td>\n",
       "      <td>4</td>\n",
       "      <td>AS5</td>\n",
       "      <td>Z</td>\n",
       "      <td>9.9</td>\n",
       "      <td>6.7</td>\n",
       "      <td>8.5</td>\n",
       "      <td>33</td>\n",
       "      <td>196</td>\n",
       "    </tr>\n",
       "    <tr>\n",
       "      <td>1</td>\n",
       "      <td>2014</td>\n",
       "      <td>ACURA</td>\n",
       "      <td>ILX</td>\n",
       "      <td>COMPACT</td>\n",
       "      <td>2.4</td>\n",
       "      <td>4</td>\n",
       "      <td>M6</td>\n",
       "      <td>Z</td>\n",
       "      <td>11.2</td>\n",
       "      <td>7.7</td>\n",
       "      <td>9.6</td>\n",
       "      <td>29</td>\n",
       "      <td>221</td>\n",
       "    </tr>\n",
       "    <tr>\n",
       "      <td>2</td>\n",
       "      <td>2014</td>\n",
       "      <td>ACURA</td>\n",
       "      <td>ILX HYBRID</td>\n",
       "      <td>COMPACT</td>\n",
       "      <td>1.5</td>\n",
       "      <td>4</td>\n",
       "      <td>AV7</td>\n",
       "      <td>Z</td>\n",
       "      <td>6.0</td>\n",
       "      <td>5.8</td>\n",
       "      <td>5.9</td>\n",
       "      <td>48</td>\n",
       "      <td>136</td>\n",
       "    </tr>\n",
       "    <tr>\n",
       "      <td>3</td>\n",
       "      <td>2014</td>\n",
       "      <td>ACURA</td>\n",
       "      <td>MDX 4WD</td>\n",
       "      <td>SUV - SMALL</td>\n",
       "      <td>3.5</td>\n",
       "      <td>6</td>\n",
       "      <td>AS6</td>\n",
       "      <td>Z</td>\n",
       "      <td>12.7</td>\n",
       "      <td>9.1</td>\n",
       "      <td>11.1</td>\n",
       "      <td>25</td>\n",
       "      <td>255</td>\n",
       "    </tr>\n",
       "    <tr>\n",
       "      <td>4</td>\n",
       "      <td>2014</td>\n",
       "      <td>ACURA</td>\n",
       "      <td>RDX AWD</td>\n",
       "      <td>SUV - SMALL</td>\n",
       "      <td>3.5</td>\n",
       "      <td>6</td>\n",
       "      <td>AS6</td>\n",
       "      <td>Z</td>\n",
       "      <td>12.1</td>\n",
       "      <td>8.7</td>\n",
       "      <td>10.6</td>\n",
       "      <td>27</td>\n",
       "      <td>244</td>\n",
       "    </tr>\n",
       "  </tbody>\n",
       "</table>\n",
       "</div>"
      ],
      "text/plain": [
       "   MODELYEAR   MAKE       MODEL VEHICLECLASS  ENGINESIZE  CYLINDERS  \\\n",
       "0       2014  ACURA         ILX      COMPACT         2.0          4   \n",
       "1       2014  ACURA         ILX      COMPACT         2.4          4   \n",
       "2       2014  ACURA  ILX HYBRID      COMPACT         1.5          4   \n",
       "3       2014  ACURA     MDX 4WD  SUV - SMALL         3.5          6   \n",
       "4       2014  ACURA     RDX AWD  SUV - SMALL         3.5          6   \n",
       "\n",
       "  TRANSMISSION FUELTYPE  FUELCONSUMPTION_CITY  FUELCONSUMPTION_HWY  \\\n",
       "0          AS5        Z                   9.9                  6.7   \n",
       "1           M6        Z                  11.2                  7.7   \n",
       "2          AV7        Z                   6.0                  5.8   \n",
       "3          AS6        Z                  12.7                  9.1   \n",
       "4          AS6        Z                  12.1                  8.7   \n",
       "\n",
       "   FUELCONSUMPTION_COMB  FUELCONSUMPTION_COMB_MPG  CO2EMISSIONS  \n",
       "0                   8.5                        33           196  \n",
       "1                   9.6                        29           221  \n",
       "2                   5.9                        48           136  \n",
       "3                  11.1                        25           255  \n",
       "4                  10.6                        27           244  "
      ]
     },
     "execution_count": 6,
     "metadata": {},
     "output_type": "execute_result"
    }
   ],
   "source": [
    "df = pd.read_csv(\"FuelConsumption.csv\")\n",
    "df.head()"
   ]
  },
  {
   "cell_type": "markdown",
   "metadata": {},
   "source": [
    "## Checking for Missing Values"
   ]
  },
  {
   "cell_type": "code",
   "execution_count": 13,
   "metadata": {},
   "outputs": [
    {
     "data": {
      "text/plain": [
       "<matplotlib.axes._subplots.AxesSubplot at 0x1a1e76d090>"
      ]
     },
     "execution_count": 13,
     "metadata": {},
     "output_type": "execute_result"
    },
    {
     "data": {
      "image/png": "[encoded data removed]",
      "text/plain": [
       "<Figure size 1440x1080 with 1 Axes>"
      ]
     },
     "metadata": {
      "needs_background": "light"
     },
     "output_type": "display_data"
    }
   ],
   "source": [
    "plt.figure(figsize=(20,15))\n",
    "sns.heatmap(df.isnull(), yticklabels=False, cmap= \"viridis_r\", cbar=False)"
   ]
  },
  {
   "cell_type": "markdown",
   "metadata": {},
   "source": [
    "**There are no missing values in this data. So, lets proceed on with Data Analysis to see correlation of features.**"
   ]
  },
  {
   "cell_type": "markdown",
   "metadata": {},
   "source": [
    "# Data Visualization & Analysis"
   ]
  },
  {
   "cell_type": "code",
   "execution_count": 19,
   "metadata": {},
   "outputs": [
    {
     "data": {
      "text/html": [
       "<div>\n",
       "<style scoped>\n",
       "    .dataframe tbody tr th:only-of-type {\n",
       "        vertical-align: middle;\n",
       "    }\n",
       "\n",
       "    .dataframe tbody tr th {\n",
       "        vertical-align: top;\n",
       "    }\n",
       "\n",
       "    .dataframe thead th {\n",
       "        text-align: right;\n",
       "    }\n",
       "</style>\n",
       "<table border=\"1\" class=\"dataframe\">\n",
       "  <thead>\n",
       "    <tr style=\"text-align: right;\">\n",
       "      <th></th>\n",
       "      <th>MODELYEAR</th>\n",
       "      <th>ENGINESIZE</th>\n",
       "      <th>CYLINDERS</th>\n",
       "      <th>FUELCONSUMPTION_CITY</th>\n",
       "      <th>FUELCONSUMPTION_HWY</th>\n",
       "      <th>FUELCONSUMPTION_COMB</th>\n",
       "      <th>FUELCONSUMPTION_COMB_MPG</th>\n",
       "      <th>CO2EMISSIONS</th>\n",
       "    </tr>\n",
       "  </thead>\n",
       "  <tbody>\n",
       "    <tr>\n",
       "      <td>count</td>\n",
       "      <td>1067.0</td>\n",
       "      <td>1067.000000</td>\n",
       "      <td>1067.000000</td>\n",
       "      <td>1067.000000</td>\n",
       "      <td>1067.000000</td>\n",
       "      <td>1067.000000</td>\n",
       "      <td>1067.000000</td>\n",
       "      <td>1067.000000</td>\n",
       "    </tr>\n",
       "    <tr>\n",
       "      <td>mean</td>\n",
       "      <td>2014.0</td>\n",
       "      <td>3.346298</td>\n",
       "      <td>5.794752</td>\n",
       "      <td>13.296532</td>\n",
       "      <td>9.474602</td>\n",
       "      <td>11.580881</td>\n",
       "      <td>26.441425</td>\n",
       "      <td>256.228679</td>\n",
       "    </tr>\n",
       "    <tr>\n",
       "      <td>std</td>\n",
       "      <td>0.0</td>\n",
       "      <td>1.415895</td>\n",
       "      <td>1.797447</td>\n",
       "      <td>4.101253</td>\n",
       "      <td>2.794510</td>\n",
       "      <td>3.485595</td>\n",
       "      <td>7.468702</td>\n",
       "      <td>63.372304</td>\n",
       "    </tr>\n",
       "    <tr>\n",
       "      <td>min</td>\n",
       "      <td>2014.0</td>\n",
       "      <td>1.000000</td>\n",
       "      <td>3.000000</td>\n",
       "      <td>4.600000</td>\n",
       "      <td>4.900000</td>\n",
       "      <td>4.700000</td>\n",
       "      <td>11.000000</td>\n",
       "      <td>108.000000</td>\n",
       "    </tr>\n",
       "    <tr>\n",
       "      <td>25%</td>\n",
       "      <td>2014.0</td>\n",
       "      <td>2.000000</td>\n",
       "      <td>4.000000</td>\n",
       "      <td>10.250000</td>\n",
       "      <td>7.500000</td>\n",
       "      <td>9.000000</td>\n",
       "      <td>21.000000</td>\n",
       "      <td>207.000000</td>\n",
       "    </tr>\n",
       "    <tr>\n",
       "      <td>50%</td>\n",
       "      <td>2014.0</td>\n",
       "      <td>3.400000</td>\n",
       "      <td>6.000000</td>\n",
       "      <td>12.600000</td>\n",
       "      <td>8.800000</td>\n",
       "      <td>10.900000</td>\n",
       "      <td>26.000000</td>\n",
       "      <td>251.000000</td>\n",
       "    </tr>\n",
       "    <tr>\n",
       "      <td>75%</td>\n",
       "      <td>2014.0</td>\n",
       "      <td>4.300000</td>\n",
       "      <td>8.000000</td>\n",
       "      <td>15.550000</td>\n",
       "      <td>10.850000</td>\n",
       "      <td>13.350000</td>\n",
       "      <td>31.000000</td>\n",
       "      <td>294.000000</td>\n",
       "    </tr>\n",
       "    <tr>\n",
       "      <td>max</td>\n",
       "      <td>2014.0</td>\n",
       "      <td>8.400000</td>\n",
       "      <td>12.000000</td>\n",
       "      <td>30.200000</td>\n",
       "      <td>20.500000</td>\n",
       "      <td>25.800000</td>\n",
       "      <td>60.000000</td>\n",
       "      <td>488.000000</td>\n",
       "    </tr>\n",
       "  </tbody>\n",
       "</table>\n",
       "</div>"
      ],
      "text/plain": [
       "       MODELYEAR   ENGINESIZE    CYLINDERS  FUELCONSUMPTION_CITY  \\\n",
       "count     1067.0  1067.000000  1067.000000           1067.000000   \n",
       "mean      2014.0     3.346298     5.794752             13.296532   \n",
       "std          0.0     1.415895     1.797447              4.101253   \n",
       "min       2014.0     1.000000     3.000000              4.600000   \n",
       "25%       2014.0     2.000000     4.000000             10.250000   \n",
       "50%       2014.0     3.400000     6.000000             12.600000   \n",
       "75%       2014.0     4.300000     8.000000             15.550000   \n",
       "max       2014.0     8.400000    12.000000             30.200000   \n",
       "\n",
       "       FUELCONSUMPTION_HWY  FUELCONSUMPTION_COMB  FUELCONSUMPTION_COMB_MPG  \\\n",
       "count          1067.000000           1067.000000               1067.000000   \n",
       "mean              9.474602             11.580881                 26.441425   \n",
       "std               2.794510              3.485595                  7.468702   \n",
       "min               4.900000              4.700000                 11.000000   \n",
       "25%               7.500000              9.000000                 21.000000   \n",
       "50%               8.800000             10.900000                 26.000000   \n",
       "75%              10.850000             13.350000                 31.000000   \n",
       "max              20.500000             25.800000                 60.000000   \n",
       "\n",
       "       CO2EMISSIONS  \n",
       "count   1067.000000  \n",
       "mean     256.228679  \n",
       "std       63.372304  \n",
       "min      108.000000  \n",
       "25%      207.000000  \n",
       "50%      251.000000  \n",
       "75%      294.000000  \n",
       "max      488.000000  "
      ]
     },
     "execution_count": 19,
     "metadata": {},
     "output_type": "execute_result"
    }
   ],
   "source": [
    "df.describe()"
   ]
  },
  {
   "cell_type": "code",
   "execution_count": 20,
   "metadata": {},
   "outputs": [
    {
     "data": {
      "text/html": [
       "<div>\n",
       "<style scoped>\n",
       "    .dataframe tbody tr th:only-of-type {\n",
       "        vertical-align: middle;\n",
       "    }\n",
       "\n",
       "    .dataframe tbody tr th {\n",
       "        vertical-align: top;\n",
       "    }\n",
       "\n",
       "    .dataframe thead th {\n",
       "        text-align: right;\n",
       "    }\n",
       "</style>\n",
       "<table border=\"1\" class=\"dataframe\">\n",
       "  <thead>\n",
       "    <tr style=\"text-align: right;\">\n",
       "      <th></th>\n",
       "      <th>MODELYEAR</th>\n",
       "      <th>ENGINESIZE</th>\n",
       "      <th>CYLINDERS</th>\n",
       "      <th>FUELCONSUMPTION_CITY</th>\n",
       "      <th>FUELCONSUMPTION_HWY</th>\n",
       "      <th>FUELCONSUMPTION_COMB</th>\n",
       "      <th>FUELCONSUMPTION_COMB_MPG</th>\n",
       "      <th>CO2EMISSIONS</th>\n",
       "    </tr>\n",
       "  </thead>\n",
       "  <tbody>\n",
       "    <tr>\n",
       "      <td>MODELYEAR</td>\n",
       "      <td>NaN</td>\n",
       "      <td>NaN</td>\n",
       "      <td>NaN</td>\n",
       "      <td>NaN</td>\n",
       "      <td>NaN</td>\n",
       "      <td>NaN</td>\n",
       "      <td>NaN</td>\n",
       "      <td>NaN</td>\n",
       "    </tr>\n",
       "    <tr>\n",
       "      <td>ENGINESIZE</td>\n",
       "      <td>NaN</td>\n",
       "      <td>1.000000</td>\n",
       "      <td>0.934011</td>\n",
       "      <td>0.832225</td>\n",
       "      <td>0.778746</td>\n",
       "      <td>0.819482</td>\n",
       "      <td>-0.808554</td>\n",
       "      <td>0.874154</td>\n",
       "    </tr>\n",
       "    <tr>\n",
       "      <td>CYLINDERS</td>\n",
       "      <td>NaN</td>\n",
       "      <td>0.934011</td>\n",
       "      <td>1.000000</td>\n",
       "      <td>0.796473</td>\n",
       "      <td>0.724594</td>\n",
       "      <td>0.776788</td>\n",
       "      <td>-0.770430</td>\n",
       "      <td>0.849685</td>\n",
       "    </tr>\n",
       "    <tr>\n",
       "      <td>FUELCONSUMPTION_CITY</td>\n",
       "      <td>NaN</td>\n",
       "      <td>0.832225</td>\n",
       "      <td>0.796473</td>\n",
       "      <td>1.000000</td>\n",
       "      <td>0.965718</td>\n",
       "      <td>0.995542</td>\n",
       "      <td>-0.935613</td>\n",
       "      <td>0.898039</td>\n",
       "    </tr>\n",
       "    <tr>\n",
       "      <td>FUELCONSUMPTION_HWY</td>\n",
       "      <td>NaN</td>\n",
       "      <td>0.778746</td>\n",
       "      <td>0.724594</td>\n",
       "      <td>0.965718</td>\n",
       "      <td>1.000000</td>\n",
       "      <td>0.985804</td>\n",
       "      <td>-0.893809</td>\n",
       "      <td>0.861748</td>\n",
       "    </tr>\n",
       "    <tr>\n",
       "      <td>FUELCONSUMPTION_COMB</td>\n",
       "      <td>NaN</td>\n",
       "      <td>0.819482</td>\n",
       "      <td>0.776788</td>\n",
       "      <td>0.995542</td>\n",
       "      <td>0.985804</td>\n",
       "      <td>1.000000</td>\n",
       "      <td>-0.927965</td>\n",
       "      <td>0.892129</td>\n",
       "    </tr>\n",
       "    <tr>\n",
       "      <td>FUELCONSUMPTION_COMB_MPG</td>\n",
       "      <td>NaN</td>\n",
       "      <td>-0.808554</td>\n",
       "      <td>-0.770430</td>\n",
       "      <td>-0.935613</td>\n",
       "      <td>-0.893809</td>\n",
       "      <td>-0.927965</td>\n",
       "      <td>1.000000</td>\n",
       "      <td>-0.906394</td>\n",
       "    </tr>\n",
       "    <tr>\n",
       "      <td>CO2EMISSIONS</td>\n",
       "      <td>NaN</td>\n",
       "      <td>0.874154</td>\n",
       "      <td>0.849685</td>\n",
       "      <td>0.898039</td>\n",
       "      <td>0.861748</td>\n",
       "      <td>0.892129</td>\n",
       "      <td>-0.906394</td>\n",
       "      <td>1.000000</td>\n",
       "    </tr>\n",
       "  </tbody>\n",
       "</table>\n",
       "</div>"
      ],
      "text/plain": [
       "                          MODELYEAR  ENGINESIZE  CYLINDERS  \\\n",
       "MODELYEAR                       NaN         NaN        NaN   \n",
       "ENGINESIZE                      NaN    1.000000   0.934011   \n",
       "CYLINDERS                       NaN    0.934011   1.000000   \n",
       "FUELCONSUMPTION_CITY            NaN    0.832225   0.796473   \n",
       "FUELCONSUMPTION_HWY             NaN    0.778746   0.724594   \n",
       "FUELCONSUMPTION_COMB            NaN    0.819482   0.776788   \n",
       "FUELCONSUMPTION_COMB_MPG        NaN   -0.808554  -0.770430   \n",
       "CO2EMISSIONS                    NaN    0.874154   0.849685   \n",
       "\n",
       "                          FUELCONSUMPTION_CITY  FUELCONSUMPTION_HWY  \\\n",
       "MODELYEAR                                  NaN                  NaN   \n",
       "ENGINESIZE                            0.832225             0.778746   \n",
       "CYLINDERS                             0.796473             0.724594   \n",
       "FUELCONSUMPTION_CITY                  1.000000             0.965718   \n",
       "FUELCONSUMPTION_HWY                   0.965718             1.000000   \n",
       "FUELCONSUMPTION_COMB                  0.995542             0.985804   \n",
       "FUELCONSUMPTION_COMB_MPG             -0.935613            -0.893809   \n",
       "CO2EMISSIONS                          0.898039             0.861748   \n",
       "\n",
       "                          FUELCONSUMPTION_COMB  FUELCONSUMPTION_COMB_MPG  \\\n",
       "MODELYEAR                                  NaN                       NaN   \n",
       "ENGINESIZE                            0.819482                 -0.808554   \n",
       "CYLINDERS                             0.776788                 -0.770430   \n",
       "FUELCONSUMPTION_CITY                  0.995542                 -0.935613   \n",
       "FUELCONSUMPTION_HWY                   0.985804                 -0.893809   \n",
       "FUELCONSUMPTION_COMB                  1.000000                 -0.927965   \n",
       "FUELCONSUMPTION_COMB_MPG             -0.927965                  1.000000   \n",
       "CO2EMISSIONS                          0.892129                 -0.906394   \n",
       "\n",
       "                          CO2EMISSIONS  \n",
       "MODELYEAR                          NaN  \n",
       "ENGINESIZE                    0.874154  \n",
       "CYLINDERS                     0.849685  \n",
       "FUELCONSUMPTION_CITY          0.898039  \n",
       "FUELCONSUMPTION_HWY           0.861748  \n",
       "FUELCONSUMPTION_COMB          0.892129  \n",
       "FUELCONSUMPTION_COMB_MPG     -0.906394  \n",
       "CO2EMISSIONS                  1.000000  "
      ]
     },
     "execution_count": 20,
     "metadata": {},
     "output_type": "execute_result"
    }
   ],
   "source": [
    "df.corr()"
   ]
  },
  {
   "cell_type": "code",
   "execution_count": 14,
   "metadata": {
    "scrolled": true
   },
   "outputs": [
    {
     "data": {
      "text/plain": [
       "<matplotlib.axes._subplots.AxesSubplot at 0x1a1e793810>"
      ]
     },
     "execution_count": 14,
     "metadata": {},
     "output_type": "execute_result"
    },
    {
     "data": {
      "image/png": "[encoded data removed]",
      "text/plain": [
       "<Figure size 432x288 with 1 Axes>"
      ]
     },
     "metadata": {
      "needs_background": "light"
     },
     "output_type": "display_data"
    }
   ],
   "source": [
    "sns.regplot(df[\"ENGINESIZE\"], df[\"CO2EMISSIONS\"])"
   ]
  },
  {
   "cell_type": "code",
   "execution_count": 21,
   "metadata": {},
   "outputs": [
    {
     "data": {
      "text/plain": [
       "<matplotlib.axes._subplots.AxesSubplot at 0x1a1a4d3710>"
      ]
     },
     "execution_count": 21,
     "metadata": {},
     "output_type": "execute_result"
    },
    {
     "data": {
      "image/png": "[encoded data removed]",
      "text/plain": [
       "<Figure size 432x288 with 1 Axes>"
      ]
     },
     "metadata": {
      "needs_background": "light"
     },
     "output_type": "display_data"
    }
   ],
   "source": [
    "sns.regplot(df[\"CYLINDERS\"], df[\"CO2EMISSIONS\"])"
   ]
  },
  {
   "cell_type": "code",
   "execution_count": 25,
   "metadata": {},
   "outputs": [
    {
     "data": {
      "text/plain": [
       "<matplotlib.axes._subplots.AxesSubplot at 0x1a20568e50>"
      ]
     },
     "execution_count": 25,
     "metadata": {},
     "output_type": "execute_result"
    },
    {
     "data": {
      "image/png": "[encoded data removed]",
      "text/plain": [
       "<Figure size 432x288 with 1 Axes>"
      ]
     },
     "metadata": {
      "needs_background": "light"
     },
     "output_type": "display_data"
    }
   ],
   "source": [
    "sns.regplot(df[\"FUELCONSUMPTION_COMB\"], df[\"CO2EMISSIONS\"])"
   ]
  },
  {
   "cell_type": "code",
   "execution_count": 30,
   "metadata": {},
   "outputs": [
    {
     "name": "stdout",
     "output_type": "stream",
     "text": [
      "(1067, 3)\n"
     ]
    },
    {
     "data": {
      "text/html": [
       "<div>\n",
       "<style scoped>\n",
       "    .dataframe tbody tr th:only-of-type {\n",
       "        vertical-align: middle;\n",
       "    }\n",
       "\n",
       "    .dataframe tbody tr th {\n",
       "        vertical-align: top;\n",
       "    }\n",
       "\n",
       "    .dataframe thead th {\n",
       "        text-align: right;\n",
       "    }\n",
       "</style>\n",
       "<table border=\"1\" class=\"dataframe\">\n",
       "  <thead>\n",
       "    <tr style=\"text-align: right;\">\n",
       "      <th></th>\n",
       "      <th>ENGINESIZE</th>\n",
       "      <th>CYLINDERS</th>\n",
       "      <th>FUELCONSUMPTION_COMB</th>\n",
       "    </tr>\n",
       "  </thead>\n",
       "  <tbody>\n",
       "    <tr>\n",
       "      <td>0</td>\n",
       "      <td>2.0</td>\n",
       "      <td>4</td>\n",
       "      <td>8.5</td>\n",
       "    </tr>\n",
       "    <tr>\n",
       "      <td>1</td>\n",
       "      <td>2.4</td>\n",
       "      <td>4</td>\n",
       "      <td>9.6</td>\n",
       "    </tr>\n",
       "    <tr>\n",
       "      <td>2</td>\n",
       "      <td>1.5</td>\n",
       "      <td>4</td>\n",
       "      <td>5.9</td>\n",
       "    </tr>\n",
       "    <tr>\n",
       "      <td>3</td>\n",
       "      <td>3.5</td>\n",
       "      <td>6</td>\n",
       "      <td>11.1</td>\n",
       "    </tr>\n",
       "    <tr>\n",
       "      <td>4</td>\n",
       "      <td>3.5</td>\n",
       "      <td>6</td>\n",
       "      <td>10.6</td>\n",
       "    </tr>\n",
       "  </tbody>\n",
       "</table>\n",
       "</div>"
      ],
      "text/plain": [
       "   ENGINESIZE  CYLINDERS  FUELCONSUMPTION_COMB\n",
       "0         2.0          4                   8.5\n",
       "1         2.4          4                   9.6\n",
       "2         1.5          4                   5.9\n",
       "3         3.5          6                  11.1\n",
       "4         3.5          6                  10.6"
      ]
     },
     "execution_count": 30,
     "metadata": {},
     "output_type": "execute_result"
    }
   ],
   "source": [
    "features_df = df[[\"ENGINESIZE\", \"CYLINDERS\", \"FUELCONSUMPTION_COMB\"]]\n",
    "print(features_df.shape)\n",
    "features_df.head()"
   ]
  },
  {
   "cell_type": "code",
   "execution_count": 33,
   "metadata": {},
   "outputs": [
    {
     "name": "stdout",
     "output_type": "stream",
     "text": [
      "(1067, 1)\n"
     ]
    },
    {
     "data": {
      "text/html": [
       "<div>\n",
       "<style scoped>\n",
       "    .dataframe tbody tr th:only-of-type {\n",
       "        vertical-align: middle;\n",
       "    }\n",
       "\n",
       "    .dataframe tbody tr th {\n",
       "        vertical-align: top;\n",
       "    }\n",
       "\n",
       "    .dataframe thead th {\n",
       "        text-align: right;\n",
       "    }\n",
       "</style>\n",
       "<table border=\"1\" class=\"dataframe\">\n",
       "  <thead>\n",
       "    <tr style=\"text-align: right;\">\n",
       "      <th></th>\n",
       "      <th>CO2EMISSIONS</th>\n",
       "    </tr>\n",
       "  </thead>\n",
       "  <tbody>\n",
       "    <tr>\n",
       "      <td>0</td>\n",
       "      <td>196</td>\n",
       "    </tr>\n",
       "    <tr>\n",
       "      <td>1</td>\n",
       "      <td>221</td>\n",
       "    </tr>\n",
       "    <tr>\n",
       "      <td>2</td>\n",
       "      <td>136</td>\n",
       "    </tr>\n",
       "    <tr>\n",
       "      <td>3</td>\n",
       "      <td>255</td>\n",
       "    </tr>\n",
       "    <tr>\n",
       "      <td>4</td>\n",
       "      <td>244</td>\n",
       "    </tr>\n",
       "  </tbody>\n",
       "</table>\n",
       "</div>"
      ],
      "text/plain": [
       "   CO2EMISSIONS\n",
       "0           196\n",
       "1           221\n",
       "2           136\n",
       "3           255\n",
       "4           244"
      ]
     },
     "execution_count": 33,
     "metadata": {},
     "output_type": "execute_result"
    }
   ],
   "source": [
    "co2emission = df[[\"CO2EMISSIONS\"]]\n",
    "print(co2emission.shape)\n",
    "co2emission.head()"
   ]
  },
  {
   "cell_type": "code",
   "execution_count": 36,
   "metadata": {},
   "outputs": [],
   "source": [
    "x = np.asarray(features_df)\n",
    "y = np.asarray(co2emission)"
   ]
  },
  {
   "cell_type": "code",
   "execution_count": 38,
   "metadata": {},
   "outputs": [],
   "source": [
    "X_train, X_test, y_train, y_test = train_test_split(x, y, test_size=0.3, random_state=10)"
   ]
  },
  {
   "cell_type": "code",
   "execution_count": 42,
   "metadata": {},
   "outputs": [
    {
     "name": "stdout",
     "output_type": "stream",
     "text": [
      "X_train:  (746, 3)\n",
      "X_test:  (321, 3)\n",
      "y_train:  (746, 1)\n",
      "y_test:  (321, 1)\n"
     ]
    }
   ],
   "source": [
    "print(\"X_train: \",X_train.shape)\n",
    "print(\"X_test: \",X_test.shape)\n",
    "print(\"y_train: \",y_train.shape)\n",
    "print(\"y_test: \",y_test.shape)"
   ]
  },
  {
   "cell_type": "markdown",
   "metadata": {},
   "source": [
    " "
   ]
  },
  {
   "cell_type": "markdown",
   "metadata": {},
   "source": [
    " "
   ]
  },
  {
   "cell_type": "markdown",
   "metadata": {},
   "source": [
    "# Model-1: Multiple Regression"
   ]
  },
  {
   "cell_type": "code",
   "execution_count": 43,
   "metadata": {},
   "outputs": [],
   "source": [
    "from sklearn.linear_model import LinearRegression\n",
    "lm = LinearRegression()"
   ]
  },
  {
   "cell_type": "code",
   "execution_count": 44,
   "metadata": {},
   "outputs": [
    {
     "data": {
      "text/plain": [
       "LinearRegression(copy_X=True, fit_intercept=True, n_jobs=None, normalize=False)"
      ]
     },
     "execution_count": 44,
     "metadata": {},
     "output_type": "execute_result"
    }
   ],
   "source": [
    "lm.fit(X_train, y_train)"
   ]
  },
  {
   "cell_type": "markdown",
   "metadata": {},
   "source": [
    "### Prediction"
   ]
  },
  {
   "cell_type": "code",
   "execution_count": 45,
   "metadata": {},
   "outputs": [
    {
     "data": {
      "text/plain": [
       "array([[185.8166566 ],\n",
       "       [252.28321255],\n",
       "       [255.56956003],\n",
       "       [211.74300234],\n",
       "       [248.62297737],\n",
       "       [292.44953506],\n",
       "       [346.6177541 ],\n",
       "       [303.61245766],\n",
       "       [257.56148094],\n",
       "       [252.05071444],\n",
       "       [242.14139094],\n",
       "       [305.91853163],\n",
       "       [190.86242688],\n",
       "       [333.97818787],\n",
       "       [208.08276716],\n",
       "       [316.79867506],\n",
       "       [312.59178871],\n",
       "       [305.55409752],\n",
       "       [383.24202621],\n",
       "       [255.80205815],\n",
       "       [221.01671496],\n",
       "       [197.66761996],\n",
       "       [231.09665311],\n",
       "       [217.90098213],\n",
       "       [203.82559975],\n",
       "       [251.58571821],\n",
       "       [178.45535877],\n",
       "       [185.8166566 ],\n",
       "       [199.42704275],\n",
       "       [193.73405919],\n",
       "       [203.82559975],\n",
       "       [249.50268877],\n",
       "       [179.89117492],\n",
       "       [198.13261618],\n",
       "       [224.13244779],\n",
       "       [217.4359859 ],\n",
       "       [247.00494416],\n",
       "       [220.13700356],\n",
       "       [307.49573737],\n",
       "       [266.12609682],\n",
       "       [303.4616145 ],\n",
       "       [285.42946654],\n",
       "       [209.98357954],\n",
       "       [259.82672744],\n",
       "       [318.05227416],\n",
       "       [278.39177535],\n",
       "       [258.29980276],\n",
       "       [240.84696436],\n",
       "       [344.06972843],\n",
       "       [339.25645626],\n",
       "       [258.6234094 ],\n",
       "       [290.7812208 ],\n",
       "       [231.97636451],\n",
       "       [316.20174283],\n",
       "       [194.38127247],\n",
       "       [192.38935156],\n",
       "       [199.42704275],\n",
       "       [190.44771171],\n",
       "       [317.53699688],\n",
       "       [288.53359696],\n",
       "       [377.60490584],\n",
       "       [203.82559975],\n",
       "       [329.11463465],\n",
       "       [334.25151346],\n",
       "       [254.22485241],\n",
       "       [198.54733136],\n",
       "       [350.96603004],\n",
       "       [241.58528618],\n",
       "       [258.6234094 ],\n",
       "       [209.98357954],\n",
       "       [208.63887191],\n",
       "       [206.46473395],\n",
       "       [315.50424849],\n",
       "       [257.51119989],\n",
       "       [336.06121731],\n",
       "       [216.5562745 ],\n",
       "       [312.59178871],\n",
       "       [234.59787604],\n",
       "       [195.7259801 ],\n",
       "       [234.59787604],\n",
       "       [203.36060352],\n",
       "       [187.11108317],\n",
       "       [269.73605094],\n",
       "       [325.59578905],\n",
       "       [392.91885159],\n",
       "       [316.24257031],\n",
       "       [194.38127247],\n",
       "       [210.86329094],\n",
       "       [250.70600681],\n",
       "       [233.73578731],\n",
       "       [190.21521359],\n",
       "       [317.88767977],\n",
       "       [339.25645626],\n",
       "       [216.5562745 ],\n",
       "       [199.84175793],\n",
       "       [348.19495984],\n",
       "       [191.97463639],\n",
       "       [189.33550219],\n",
       "       [212.48132415],\n",
       "       [275.01431934],\n",
       "       [216.87988115],\n",
       "       [250.61489828],\n",
       "       [278.39177535],\n",
       "       [277.86832898],\n",
       "       [210.86329094],\n",
       "       [261.58615024],\n",
       "       [253.25403248],\n",
       "       [245.24552136],\n",
       "       [187.11108317],\n",
       "       [276.21763738],\n",
       "       [295.57128815],\n",
       "       [191.50964016],\n",
       "       [207.20305576],\n",
       "       [243.34470898],\n",
       "       [260.70643884],\n",
       "       [288.06860074],\n",
       "       [245.98384317],\n",
       "       [248.94658401],\n",
       "       [236.58979695],\n",
       "       [256.8639866 ],\n",
       "       [270.93936898],\n",
       "       [293.88535122],\n",
       "       [256.54037996],\n",
       "       [299.8108329 ],\n",
       "       [304.69200879],\n",
       "       [228.43989625],\n",
       "       [378.30240018],\n",
       "       [179.19368058],\n",
       "       [290.63983121],\n",
       "       [208.63887191],\n",
       "       [311.52040667],\n",
       "       [212.15771751],\n",
       "       [195.49348199],\n",
       "       [224.93867332],\n",
       "       [160.38453216],\n",
       "       [255.9842752 ],\n",
       "       [261.2625436 ],\n",
       "       [258.39091129],\n",
       "       [194.38127247],\n",
       "       [197.4854029 ],\n",
       "       [204.24031492],\n",
       "       [278.53316493],\n",
       "       [189.33550219],\n",
       "       [308.60794689],\n",
       "       [208.96247856],\n",
       "       [213.50242514],\n",
       "       [249.50268877],\n",
       "       [314.92493893],\n",
       "       [349.90410158],\n",
       "       [379.29901186],\n",
       "       [383.24202621],\n",
       "       [260.93893695],\n",
       "       [238.20783017],\n",
       "       [317.88767977],\n",
       "       [191.32742311],\n",
       "       [429.49284265],\n",
       "       [184.47194897],\n",
       "       [213.03742891],\n",
       "       [201.04507597],\n",
       "       [250.38240017],\n",
       "       [254.22485241],\n",
       "       [339.25645626],\n",
       "       [191.74213828],\n",
       "       [315.27175038],\n",
       "       [319.81169696],\n",
       "       [321.57111976],\n",
       "       [223.1113468 ],\n",
       "       [172.15598939],\n",
       "       [367.91304473],\n",
       "       [309.25516017],\n",
       "       [329.62045835],\n",
       "       [308.4665573 ],\n",
       "       [179.01146352],\n",
       "       [205.44363296],\n",
       "       [165.9980096 ],\n",
       "       [336.57649459],\n",
       "       [265.42860248],\n",
       "       [224.05896192],\n",
       "       [208.63887191],\n",
       "       [315.50424849],\n",
       "       [428.61313125],\n",
       "       [392.91885159],\n",
       "       [262.69835975],\n",
       "       [210.86329094],\n",
       "       [189.33550219],\n",
       "       [304.67438612],\n",
       "       [198.54733136],\n",
       "       [249.50268877],\n",
       "       [395.38951996],\n",
       "       [297.86919304],\n",
       "       [266.35859493],\n",
       "       [215.67656311],\n",
       "       [211.27800611],\n",
       "       [278.67455452],\n",
       "       [248.76436695],\n",
       "       [272.14268703],\n",
       "       [291.66093219],\n",
       "       [276.63235255],\n",
       "       [355.97097284],\n",
       "       [249.50268877],\n",
       "       [291.94371136],\n",
       "       [210.86329094],\n",
       "       [202.94588835],\n",
       "       [209.98357954],\n",
       "       [334.25151346],\n",
       "       [189.33550219],\n",
       "       [184.47194897],\n",
       "       [241.58528618],\n",
       "       [392.91885159],\n",
       "       [224.13244779],\n",
       "       [194.14877436],\n",
       "       [303.30647368],\n",
       "       [204.70531115],\n",
       "       [247.88465556],\n",
       "       [186.04915471],\n",
       "       [225.81838472],\n",
       "       [242.60638716],\n",
       "       [209.98357954],\n",
       "       [206.46473395],\n",
       "       [339.25645626],\n",
       "       [215.67656311],\n",
       "       [200.30675415],\n",
       "       [216.5562745 ],\n",
       "       [256.30788185],\n",
       "       [268.85633954],\n",
       "       [179.93200239],\n",
       "       [226.29498335],\n",
       "       [244.36580996],\n",
       "       [310.49930569],\n",
       "       [346.43553704],\n",
       "       [262.83974934],\n",
       "       [255.75177709],\n",
       "       [192.38935156],\n",
       "       [267.42052339],\n",
       "       [212.15771751],\n",
       "       [190.44771171],\n",
       "       [169.89074289],\n",
       "       [190.21521359],\n",
       "       [294.99756073],\n",
       "       [187.5760794 ],\n",
       "       [335.50511255],\n",
       "       [196.78790856],\n",
       "       [311.52040667],\n",
       "       [182.06531289],\n",
       "       [383.24202621],\n",
       "       [255.01345528],\n",
       "       [335.13122486],\n",
       "       [232.92956177],\n",
       "       [248.62297737],\n",
       "       [429.49284265],\n",
       "       [274.87292975],\n",
       "       [350.96603004],\n",
       "       [259.27062269],\n",
       "       [202.94588835],\n",
       "       [181.97420436],\n",
       "       [349.20660724],\n",
       "       [205.12002632],\n",
       "       [219.1954087 ],\n",
       "       [269.17994619],\n",
       "       [252.14182297],\n",
       "       [383.24202621],\n",
       "       [208.22415674],\n",
       "       [238.94615198],\n",
       "       [314.15954087],\n",
       "       [250.05879353],\n",
       "       [329.6707394 ],\n",
       "       [203.82559975],\n",
       "       [258.6234094 ],\n",
       "       [302.21746898],\n",
       "       [191.97463639],\n",
       "       [288.42486577],\n",
       "       [223.9910582 ],\n",
       "       [342.86641039],\n",
       "       [241.58528618],\n",
       "       [221.8345429 ],\n",
       "       [254.78095716],\n",
       "       [182.53030912],\n",
       "       [185.8166566 ],\n",
       "       [211.27800611],\n",
       "       [361.28189962],\n",
       "       [249.64407835],\n",
       "       [342.77530186],\n",
       "       [350.96603004],\n",
       "       [349.20660724],\n",
       "       [187.5760794 ],\n",
       "       [184.47194897],\n",
       "       [378.75236068],\n",
       "       [238.20783017],\n",
       "       [214.24074695],\n",
       "       [316.65728548],\n",
       "       [236.88074521],\n",
       "       [335.13122486],\n",
       "       [262.142255  ],\n",
       "       [207.34444534],\n",
       "       [251.40350115],\n",
       "       [246.53994793],\n",
       "       [301.33775758],\n",
       "       [193.73405919],\n",
       "       [369.18167955],\n",
       "       [269.73605094],\n",
       "       [254.22485241],\n",
       "       [176.55454638],\n",
       "       [197.02040667],\n",
       "       [241.72667576],\n",
       "       [200.53925227],\n",
       "       [381.12375143],\n",
       "       [221.27843814],\n",
       "       [174.84540464],\n",
       "       [413.96402145],\n",
       "       [254.78095716],\n",
       "       [335.13122486],\n",
       "       [253.34514101],\n",
       "       [196.37319339],\n",
       "       [250.70600681],\n",
       "       [182.53030912],\n",
       "       [191.97463639],\n",
       "       [216.00016975],\n",
       "       [266.54081199],\n",
       "       [197.90011807],\n",
       "       [311.01458297],\n",
       "       [311.75290478]])"
      ]
     },
     "execution_count": 45,
     "metadata": {},
     "output_type": "execute_result"
    }
   ],
   "source": [
    "yhat1 = lm.predict(X_test)\n",
    "yhat1"
   ]
  },
  {
   "cell_type": "markdown",
   "metadata": {},
   "source": [
    "### Evaluation"
   ]
  },
  {
   "cell_type": "code",
   "execution_count": 46,
   "metadata": {},
   "outputs": [],
   "source": [
    "from sklearn.metrics import r2_score"
   ]
  },
  {
   "cell_type": "code",
   "execution_count": 48,
   "metadata": {},
   "outputs": [
    {
     "data": {
      "text/plain": [
       "0.8796945821977584"
      ]
     },
     "execution_count": 48,
     "metadata": {},
     "output_type": "execute_result"
    }
   ],
   "source": [
    "r2 = r2_score(y_test, yhat1)\n",
    "r2"
   ]
  },
  {
   "cell_type": "markdown",
   "metadata": {},
   "source": [
    " "
   ]
  },
  {
   "cell_type": "markdown",
   "metadata": {},
   "source": [
    " "
   ]
  },
  {
   "cell_type": "markdown",
   "metadata": {},
   "source": [
    "# Model-2: XgBoost"
   ]
  },
  {
   "cell_type": "code",
   "execution_count": 49,
   "metadata": {},
   "outputs": [],
   "source": [
    "from xgboost import XGBRegressor"
   ]
  },
  {
   "cell_type": "code",
   "execution_count": 55,
   "metadata": {},
   "outputs": [],
   "source": [
    "from sklearn.model_selection import RandomizedSearchCV"
   ]
  },
  {
   "cell_type": "code",
   "execution_count": 51,
   "metadata": {},
   "outputs": [],
   "source": [
    "regressor = XGBRegressor()"
   ]
  },
  {
   "cell_type": "code",
   "execution_count": 52,
   "metadata": {},
   "outputs": [],
   "source": [
    "max_depth=[2,3,5,7, 10, 15]\n",
    "learning_rate=[0.05, 0.1, 0.15, 0.2]\n",
    "n_estimators=[100, 400, 500, 600, 900, 1100, 1400, 1500]\n",
    "booster=['gbtree', 'gblinear']\n",
    "min_child_weight=[1, 2, 3, 4]\n",
    "base_score=[0.25, 0.5, 0.75, 1]\n",
    "\n",
    "# setting Hyperparameters\n",
    "hyperparameters_grid = {\n",
    "    'max_depth' : max_depth, \n",
    "    'learning_rate' : learning_rate,\n",
    "    'n_estimators' : n_estimators,\n",
    "    'booster' : booster,\n",
    "    'min_child_weight' : min_child_weight,\n",
    "    'base_score' : base_score\n",
    "}"
   ]
  },
  {
   "cell_type": "code",
   "execution_count": 57,
   "metadata": {},
   "outputs": [],
   "source": [
    "random_cv = RandomizedSearchCV(estimator=regressor,\n",
    "                               param_distributions= hyperparameters_grid,\n",
    "                              n_iter = 50,\n",
    "                              cv=5, n_jobs=4,\n",
    "                              verbose= 5, return_train_score=True,\n",
    "                              random_state=42,\n",
    "                              scoring = 'neg_mean_absolute_error')"
   ]
  },
  {
   "cell_type": "code",
   "execution_count": 58,
   "metadata": {},
   "outputs": [
    {
     "name": "stdout",
     "output_type": "stream",
     "text": [
      "Fitting 5 folds for each of 50 candidates, totalling 250 fits\n"
     ]
    },
    {
     "name": "stderr",
     "output_type": "stream",
     "text": [
      "[Parallel(n_jobs=4)]: Using backend LokyBackend with 4 concurrent workers.\n",
      "[Parallel(n_jobs=4)]: Done  10 tasks      | elapsed:    4.9s\n",
      "[Parallel(n_jobs=4)]: Done  64 tasks      | elapsed:   15.3s\n",
      "[Parallel(n_jobs=4)]: Done 154 tasks      | elapsed:   26.6s\n",
      "[Parallel(n_jobs=4)]: Done 250 out of 250 | elapsed:   40.9s finished\n",
      "/Users/finneysunny/opt/anaconda3/lib/python3.7/site-packages/sklearn/model_selection/_search.py:814: DeprecationWarning: The default of the `iid` parameter will change from True to False in version 0.22 and will be removed in 0.24. This will change numeric results when test-set sizes are unequal.\n",
      "  DeprecationWarning)\n"
     ]
    },
    {
     "name": "stdout",
     "output_type": "stream",
     "text": [
      "[14:21:17] WARNING: src/objective/regression_obj.cu:152: reg:linear is now deprecated in favor of reg:squarederror.\n"
     ]
    },
    {
     "data": {
      "text/plain": [
       "RandomizedSearchCV(cv=5, error_score='raise-deprecating',\n",
       "                   estimator=XGBRegressor(base_score=0.5, booster='gbtree',\n",
       "                                          colsample_bylevel=1,\n",
       "                                          colsample_bynode=1,\n",
       "                                          colsample_bytree=1, gamma=0,\n",
       "                                          importance_type='gain',\n",
       "                                          learning_rate=0.1, max_delta_step=0,\n",
       "                                          max_depth=3, min_child_weight=1,\n",
       "                                          missing=None, n_estimators=100,\n",
       "                                          n_jobs=1, nthread=None,\n",
       "                                          objective='reg:linear',\n",
       "                                          random_st...\n",
       "                   iid='warn', n_iter=50, n_jobs=4,\n",
       "                   param_distributions={'base_score': [0.25, 0.5, 0.75, 1],\n",
       "                                        'booster': ['gbtree', 'gblinear'],\n",
       "                                        'learning_rate': [0.05, 0.1, 0.15, 0.2],\n",
       "                                        'max_depth': [2, 3, 5, 7, 10, 15],\n",
       "                                        'min_child_weight': [1, 2, 3, 4],\n",
       "                                        'n_estimators': [100, 400, 500, 600,\n",
       "                                                         900, 1100, 1400,\n",
       "                                                         1500]},\n",
       "                   pre_dispatch='2*n_jobs', random_state=42, refit=True,\n",
       "                   return_train_score=True, scoring='neg_mean_absolute_error',\n",
       "                   verbose=5)"
      ]
     },
     "execution_count": 58,
     "metadata": {},
     "output_type": "execute_result"
    }
   ],
   "source": [
    "random_cv.fit(X_train, y_train)"
   ]
  },
  {
   "cell_type": "code",
   "execution_count": 59,
   "metadata": {},
   "outputs": [
    {
     "data": {
      "text/plain": [
       "XGBRegressor(base_score=0.75, booster='gbtree', colsample_bylevel=1,\n",
       "             colsample_bynode=1, colsample_bytree=1, gamma=0,\n",
       "             importance_type='gain', learning_rate=0.05, max_delta_step=0,\n",
       "             max_depth=10, min_child_weight=1, missing=None, n_estimators=500,\n",
       "             n_jobs=1, nthread=None, objective='reg:linear', random_state=0,\n",
       "             reg_alpha=0, reg_lambda=1, scale_pos_weight=1, seed=None,\n",
       "             silent=None, subsample=1, verbosity=1)"
      ]
     },
     "execution_count": 59,
     "metadata": {},
     "output_type": "execute_result"
    }
   ],
   "source": [
    "random_cv.best_estimator_"
   ]
  },
  {
   "cell_type": "code",
   "execution_count": 61,
   "metadata": {},
   "outputs": [],
   "source": [
    "regressor = XGBRegressor(base_score=0.75, booster='gbtree', colsample_bylevel=1,\n",
    "             colsample_bynode=1, colsample_bytree=1, gamma=0,\n",
    "             importance_type='gain', learning_rate=0.05, max_delta_step=0,\n",
    "             max_depth=10, min_child_weight=1, missing=None, n_estimators=500,\n",
    "             n_jobs=1, nthread=None, objective='reg:linear', random_state=0,\n",
    "             reg_alpha=0, reg_lambda=1, scale_pos_weight=1, seed=None,\n",
    "             silent=None, subsample=1, verbosity=1)"
   ]
  },
  {
   "cell_type": "code",
   "execution_count": 62,
   "metadata": {},
   "outputs": [
    {
     "name": "stdout",
     "output_type": "stream",
     "text": [
      "[14:25:48] WARNING: src/objective/regression_obj.cu:152: reg:linear is now deprecated in favor of reg:squarederror.\n"
     ]
    },
    {
     "data": {
      "text/plain": [
       "XGBRegressor(base_score=0.75, booster='gbtree', colsample_bylevel=1,\n",
       "             colsample_bynode=1, colsample_bytree=1, gamma=0,\n",
       "             importance_type='gain', learning_rate=0.05, max_delta_step=0,\n",
       "             max_depth=10, min_child_weight=1, missing=None, n_estimators=500,\n",
       "             n_jobs=1, nthread=None, objective='reg:linear', random_state=0,\n",
       "             reg_alpha=0, reg_lambda=1, scale_pos_weight=1, seed=None,\n",
       "             silent=None, subsample=1, verbosity=1)"
      ]
     },
     "execution_count": 62,
     "metadata": {},
     "output_type": "execute_result"
    }
   ],
   "source": [
    "regressor.fit(X_train, y_train)"
   ]
  },
  {
   "cell_type": "code",
   "execution_count": 63,
   "metadata": {},
   "outputs": [
    {
     "data": {
      "text/plain": [
       "array([175.00623, 264.00995, 266.94586, 229.99527, 238.99991, 278.0241 ,\n",
       "       346.94235, 325.44037, 278.04428, 257.9726 , 224.99788, 286.69705,\n",
       "       182.01501, 366.0808 , 205.00067, 308.00735, 338.00302, 319.92014,\n",
       "       344.00143, 302.3935 , 218.0337 , 193.00604, 280.35217, 246.00037,\n",
       "       209.00124, 243.96196, 159.27884, 175.00623, 198.00069, 196.01431,\n",
       "       209.00124, 242.02483, 166.00104, 206.9998 , 191.0439 , 231.9126 ,\n",
       "       251.00522, 216.00269, 306.004  , 293.98285, 259.56885, 321.73892,\n",
       "       225.00139, 262.0325 , 336.0175 , 300.16473, 264.31497, 235.0019 ,\n",
       "       381.83594, 379.99374, 261.91962, 261.94064, 285.01364, 337.98907,\n",
       "       190.90302, 178.99805, 198.00069, 193.68729, 294.34048, 237.0067 ,\n",
       "       359.26352, 209.00124, 339.99478, 338.06067, 251.001  , 195.99243,\n",
       "       381.99774, 220.9899 , 261.91962, 225.00139, 209.05688, 215.98294,\n",
       "       316.99658, 252.99158, 368.0166 , 230.0028 , 338.00302, 228.82738,\n",
       "       206.95598, 228.82738, 196.00206, 180.02869, 294.0071 , 329.02228,\n",
       "       361.98807, 302.95947, 190.90302, 227.9977 , 242.01035, 290.07385,\n",
       "       185.99773, 269.51315, 379.99374, 230.0028 , 185.91742, 418.96997,\n",
       "       190.99223, 184.00388, 216.00253, 308.00204, 227.99994, 250.99524,\n",
       "       300.16473, 262.30954, 227.9977 , 267.03763, 257.96957, 246.01576,\n",
       "       180.02869, 308.02502, 250.00494, 177.07262, 202.20395, 224.99438,\n",
       "       264.83923, 322.8685 , 232.10117, 236.99199, 252.5272 , 257.9975 ,\n",
       "       294.00354, 285.29343, 260.004  , 291.73343, 263.9924 , 212.01215,\n",
       "       380.00217, 159.53416, 242.99065, 209.05688, 294.00116, 218.0151 ,\n",
       "       199.98978, 262.53992, 147.01318, 255.01712, 268.9707 , 254.93816,\n",
       "       190.90302, 210.79503, 197.99222, 222.02008, 184.00388, 315.33627,\n",
       "       206.99196, 234.99435, 242.02483, 270.37088, 359.10855, 410.10052,\n",
       "       344.00143, 270.9995 , 228.03091, 269.51315, 196.02625, 410.99014,\n",
       "       159.01337, 220.99605, 185.93721, 243.99939, 251.001  , 379.99374,\n",
       "       183.96146, 310.00546, 337.9261 , 345.00644, 175.00005, 141.04063,\n",
       "       432.00354, 310.0348 , 319.74646, 299.01514, 163.08557, 198.00197,\n",
       "       126.59491, 406.99707, 274.0002 , 259.84018, 209.05688, 316.99658,\n",
       "       410.99014, 361.98807, 276.04807, 227.9977 , 184.00388, 317.00607,\n",
       "       195.99243, 242.02483, 389.0015 , 306.37924, 303.13702, 228.52852,\n",
       "       215.99883, 235.7317 , 254.99107, 292.94418, 264.1051 , 296.9992 ,\n",
       "       293.99893, 242.02483, 297.00214, 227.9977 , 206.99644, 225.00139,\n",
       "       338.06067, 184.00388, 159.01337, 220.9899 , 361.98807, 191.0439 ,\n",
       "       184.01367, 265.21054, 211.99821, 252.99887, 182.00035, 266.98932,\n",
       "       280.98572, 225.00139, 215.98294, 379.99374, 228.52852, 200.01068,\n",
       "       230.0028 , 253.01703, 290.55185, 130.04243, 232.00136, 285.8955 ,\n",
       "       281.56393, 414.0077 , 292.00055, 247.99756, 178.99805, 284.90378,\n",
       "       218.0151 , 193.68729, 142.92178, 185.99773, 291.99777, 178.9983 ,\n",
       "       363.4731 , 189.31052, 294.00116, 158.70845, 344.00143, 261.81995,\n",
       "       340.00714, 215.07948, 238.99991, 410.99014, 291.0538 , 381.99774,\n",
       "       257.91635, 206.99644, 167.9358 , 380.0516 , 199.99704, 236.93488,\n",
       "       290.00815, 247.9854 , 344.00143, 221.00166, 211.88408, 299.84204,\n",
       "       246.0005 , 345.27252, 209.00124, 261.91962, 291.7798 , 190.99223,\n",
       "       289.46466, 175.00429, 381.78577, 220.9899 , 244.01022, 255.00688,\n",
       "       171.99261, 175.00623, 215.99883, 318.47058, 258.00354, 270.05164,\n",
       "       381.99774, 380.0516 , 178.9983 , 159.01337, 341.98672, 228.03091,\n",
       "       221.00215, 291.1544 , 279.89426, 340.00714, 270.98206, 218.00865,\n",
       "       261.97922, 236.32552, 290.00568, 196.01431, 358.99908, 294.0071 ,\n",
       "       251.001  , 152.46309, 197.99803, 237.00336, 207.10085, 367.9932 ,\n",
       "       248.06201, 159.00052, 358.74622, 255.00688, 340.00714, 247.9899 ,\n",
       "       202.005  , 242.01035, 171.99261, 190.99223, 225.00473, 283.01047,\n",
       "       199.98674, 315.02847, 300.96265], dtype=float32)"
      ]
     },
     "execution_count": 63,
     "metadata": {},
     "output_type": "execute_result"
    }
   ],
   "source": [
    "yhat2 = regressor.predict(X_test)\n",
    "yhat2"
   ]
  },
  {
   "cell_type": "markdown",
   "metadata": {},
   "source": [
    "## Evaluation"
   ]
  },
  {
   "cell_type": "code",
   "execution_count": 64,
   "metadata": {},
   "outputs": [
    {
     "data": {
      "text/plain": [
       "0.9500669076452062"
      ]
     },
     "execution_count": 64,
     "metadata": {},
     "output_type": "execute_result"
    }
   ],
   "source": [
    "r2_1 = r2_score(y_test, yhat2)\n",
    "r2_1"
   ]
  },
  {
   "cell_type": "markdown",
   "metadata": {},
   "source": [
    "# Result"
   ]
  },
  {
   "cell_type": "markdown",
   "metadata": {},
   "source": [
    "As per the evaluation results, we can come to a conclusion that in this project Model 2 is better."
   ]
  },
  {
   "cell_type": "code",
   "execution_count": null,
   "metadata": {},
   "outputs": [],
   "source": []
  }
 ],
 "metadata": {
  "kernelspec": {
   "display_name": "Python 3",
   "language": "python",
   "name": "python3"
  },
  "language_info": {
   "codemirror_mode": {
    "name": "ipython",
    "version": 3
   },
   "file_extension": ".py",
   "mimetype": "text/x-python",
   "name": "python",
   "nbconvert_exporter": "python",
   "pygments_lexer": "ipython3",
   "version": "3.7.4"
  }
 },
 "nbformat": 4,
 "nbformat_minor": 2
}
