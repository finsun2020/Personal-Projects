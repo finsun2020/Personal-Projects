{
 "cells": [
  {
   "cell_type": "markdown",
   "metadata": {},
   "source": [
    "# <center>Customer Categorizing With KNN</center>"
   ]
  },
  {
   "cell_type": "code",
   "execution_count": 1,
   "metadata": {},
   "outputs": [],
   "source": [
    "# import required libraries\n",
    "\n",
    "import itertools\n",
    "import numpy as np\n",
    "import pandas as pd\n",
    "import seaborn as sns\n",
    "import matplotlib.pyplot as plt\n",
    "from matplotlib.ticker import NullFormatter\n",
    "from sklearn import preprocessing\n",
    "%matplotlib inline"
   ]
  },
  {
   "cell_type": "code",
   "execution_count": 2,
   "metadata": {},
   "outputs": [],
   "source": [
    "pd.set_option('display.max_columns', 100)\n",
    "pd.set_option('display.max_rows', 100)\n",
    "sns.set_style(style='whitegrid')"
   ]
  },
  {
   "cell_type": "markdown",
   "metadata": {},
   "source": [
    "# About the dataset"
   ]
  },
  {
   "cell_type": "markdown",
   "metadata": {},
   "source": [
    "A telecommunications provider has segmented its customer base by service usage patterns, categorizing the customers into four groups. If demographic data can be used to predict group membership, the company can customize offers for individual prospective customers. \n",
    "\n",
    "It is a classification problem. That is, given the dataset,  with predefined labels, we will build a model to be used to predict class of a new or unknown case. \n",
    "\n",
    "This dataset focuses on demographic data, such as region, age, and marital, to predict usage patterns. The target field, called __custcat__, has four possible values that correspond to the four customer groups, as follows:\n",
    "\n",
    "- Basic Service\n",
    "<br>\n",
    "- E-Service\n",
    "<br> \n",
    "- Plus Service\n",
    "<br>\n",
    "- Total Service\n",
    "\n",
    "We will use a specific type of classification called K nearest neighbour."
   ]
  },
  {
   "cell_type": "code",
   "execution_count": 10,
   "metadata": {},
   "outputs": [
    {
     "name": "stdout",
     "output_type": "stream",
     "text": [
      "--2020-01-18 12:13:49--  https://s3-api.us-geo.objectstorage.softlayer.net/cf-courses-data/CognitiveClass/ML0101ENv3/labs/teleCust1000t.csv\n",
      "Resolving s3-api.us-geo.objectstorage.softlayer.net... 67.228.254.196\n",
      "Connecting to s3-api.us-geo.objectstorage.softlayer.net|67.228.254.196|:443... connected.\n",
      "HTTP request sent, awaiting response... 200 OK\n",
      "Length: 37048 (36K) [text/csv]\n",
      "Saving to: 'teleCust1000t.csv'\n",
      "\n",
      "teleCust1000t.csv   100%[===================>]  36.18K  --.-KB/s    in 0.1s    \n",
      "\n",
      "2020-01-18 12:13:50 (362 KB/s) - 'teleCust1000t.csv' saved [37048/37048]\n",
      "\n"
     ]
    }
   ],
   "source": [
    "!wget -O teleCust1000t.csv https://s3-api.us-geo.objectstorage.softlayer.net/cf-courses-data/CognitiveClass/ML0101ENv3/labs/teleCust1000t.csv"
   ]
  },
  {
   "cell_type": "code",
   "execution_count": 3,
   "metadata": {},
   "outputs": [
    {
     "data": {
      "text/html": [
       "<div>\n",
       "<style scoped>\n",
       "    .dataframe tbody tr th:only-of-type {\n",
       "        vertical-align: middle;\n",
       "    }\n",
       "\n",
       "    .dataframe tbody tr th {\n",
       "        vertical-align: top;\n",
       "    }\n",
       "\n",
       "    .dataframe thead th {\n",
       "        text-align: right;\n",
       "    }\n",
       "</style>\n",
       "<table border=\"1\" class=\"dataframe\">\n",
       "  <thead>\n",
       "    <tr style=\"text-align: right;\">\n",
       "      <th></th>\n",
       "      <th>region</th>\n",
       "      <th>tenure</th>\n",
       "      <th>age</th>\n",
       "      <th>marital</th>\n",
       "      <th>address</th>\n",
       "      <th>income</th>\n",
       "      <th>ed</th>\n",
       "      <th>employ</th>\n",
       "      <th>retire</th>\n",
       "      <th>gender</th>\n",
       "      <th>reside</th>\n",
       "      <th>custcat</th>\n",
       "    </tr>\n",
       "  </thead>\n",
       "  <tbody>\n",
       "    <tr>\n",
       "      <td>0</td>\n",
       "      <td>2</td>\n",
       "      <td>13</td>\n",
       "      <td>44</td>\n",
       "      <td>1</td>\n",
       "      <td>9</td>\n",
       "      <td>64.0</td>\n",
       "      <td>4</td>\n",
       "      <td>5</td>\n",
       "      <td>0.0</td>\n",
       "      <td>0</td>\n",
       "      <td>2</td>\n",
       "      <td>1</td>\n",
       "    </tr>\n",
       "    <tr>\n",
       "      <td>1</td>\n",
       "      <td>3</td>\n",
       "      <td>11</td>\n",
       "      <td>33</td>\n",
       "      <td>1</td>\n",
       "      <td>7</td>\n",
       "      <td>136.0</td>\n",
       "      <td>5</td>\n",
       "      <td>5</td>\n",
       "      <td>0.0</td>\n",
       "      <td>0</td>\n",
       "      <td>6</td>\n",
       "      <td>4</td>\n",
       "    </tr>\n",
       "    <tr>\n",
       "      <td>2</td>\n",
       "      <td>3</td>\n",
       "      <td>68</td>\n",
       "      <td>52</td>\n",
       "      <td>1</td>\n",
       "      <td>24</td>\n",
       "      <td>116.0</td>\n",
       "      <td>1</td>\n",
       "      <td>29</td>\n",
       "      <td>0.0</td>\n",
       "      <td>1</td>\n",
       "      <td>2</td>\n",
       "      <td>3</td>\n",
       "    </tr>\n",
       "    <tr>\n",
       "      <td>3</td>\n",
       "      <td>2</td>\n",
       "      <td>33</td>\n",
       "      <td>33</td>\n",
       "      <td>0</td>\n",
       "      <td>12</td>\n",
       "      <td>33.0</td>\n",
       "      <td>2</td>\n",
       "      <td>0</td>\n",
       "      <td>0.0</td>\n",
       "      <td>1</td>\n",
       "      <td>1</td>\n",
       "      <td>1</td>\n",
       "    </tr>\n",
       "    <tr>\n",
       "      <td>4</td>\n",
       "      <td>2</td>\n",
       "      <td>23</td>\n",
       "      <td>30</td>\n",
       "      <td>1</td>\n",
       "      <td>9</td>\n",
       "      <td>30.0</td>\n",
       "      <td>1</td>\n",
       "      <td>2</td>\n",
       "      <td>0.0</td>\n",
       "      <td>0</td>\n",
       "      <td>4</td>\n",
       "      <td>3</td>\n",
       "    </tr>\n",
       "  </tbody>\n",
       "</table>\n",
       "</div>"
      ],
      "text/plain": [
       "   region  tenure  age  marital  address  income  ed  employ  retire  gender  \\\n",
       "0       2      13   44        1        9    64.0   4       5     0.0       0   \n",
       "1       3      11   33        1        7   136.0   5       5     0.0       0   \n",
       "2       3      68   52        1       24   116.0   1      29     0.0       1   \n",
       "3       2      33   33        0       12    33.0   2       0     0.0       1   \n",
       "4       2      23   30        1        9    30.0   1       2     0.0       0   \n",
       "\n",
       "   reside  custcat  \n",
       "0       2        1  \n",
       "1       6        4  \n",
       "2       2        3  \n",
       "3       1        1  \n",
       "4       4        3  "
      ]
     },
     "execution_count": 3,
     "metadata": {},
     "output_type": "execute_result"
    }
   ],
   "source": [
    "df = pd.read_csv('teleCust1000t.csv')\n",
    "df.head()"
   ]
  },
  {
   "cell_type": "markdown",
   "metadata": {},
   "source": [
    "# Data Visualization and Analysis"
   ]
  },
  {
   "cell_type": "code",
   "execution_count": 4,
   "metadata": {},
   "outputs": [
    {
     "data": {
      "text/plain": [
       "<matplotlib.axes._subplots.AxesSubplot at 0x1a1fa4ed10>"
      ]
     },
     "execution_count": 4,
     "metadata": {},
     "output_type": "execute_result"
    },
    {
     "data": {
      "image/png": "[encoded data removed]",
      "text/plain": [
       "<Figure size 432x288 with 1 Axes>"
      ]
     },
     "metadata": {},
     "output_type": "display_data"
    }
   ],
   "source": [
    "sns.heatmap(df.isnull(), yticklabels=False, cmap='viridis_r', cbar=False)"
   ]
  },
  {
   "cell_type": "markdown",
   "metadata": {},
   "source": [
    "So, this dataset has no null values to be fixed"
   ]
  },
  {
   "cell_type": "markdown",
   "metadata": {},
   "source": [
    "Now, lets check the correlation of variables"
   ]
  },
  {
   "cell_type": "code",
   "execution_count": 22,
   "metadata": {},
   "outputs": [
    {
     "name": "stderr",
     "output_type": "stream",
     "text": [
      "/Users/finneysunny/opt/anaconda3/lib/python3.7/site-packages/ipykernel_launcher.py:3: UserWarning: Attempting to set identical bottom == top == 10 results in singular transformations; automatically expanding.\n",
      "  This is separate from the ipykernel package so we can avoid doing imports until\n"
     ]
    },
    {
     "data": {
      "text/plain": [
       "<matplotlib.axes._subplots.AxesSubplot at 0x1a2a147650>"
      ]
     },
     "execution_count": 22,
     "metadata": {},
     "output_type": "execute_result"
    },
    {
     "data": {
      "image/png": "[encoded data removed]",
      "text/plain": [
       "<Figure size 1440x1080 with 2 Axes>"
      ]
     },
     "metadata": {},
     "output_type": "display_data"
    }
   ],
   "source": [
    "plt.figure(figsize=(20,15))\n",
    "axes = plt.axes()\n",
    "axes.set_ylim(10, 10)\n",
    "sns.heatmap(df.corr(), cmap='cividis', annot=True,linewidths= 0.5)"
   ]
  },
  {
   "cell_type": "code",
   "execution_count": 23,
   "metadata": {},
   "outputs": [
    {
     "data": {
      "text/html": [
       "<div>\n",
       "<style scoped>\n",
       "    .dataframe tbody tr th:only-of-type {\n",
       "        vertical-align: middle;\n",
       "    }\n",
       "\n",
       "    .dataframe tbody tr th {\n",
       "        vertical-align: top;\n",
       "    }\n",
       "\n",
       "    .dataframe thead th {\n",
       "        text-align: right;\n",
       "    }\n",
       "</style>\n",
       "<table border=\"1\" class=\"dataframe\">\n",
       "  <thead>\n",
       "    <tr style=\"text-align: right;\">\n",
       "      <th></th>\n",
       "      <th>region</th>\n",
       "      <th>tenure</th>\n",
       "      <th>age</th>\n",
       "      <th>marital</th>\n",
       "      <th>address</th>\n",
       "      <th>income</th>\n",
       "      <th>ed</th>\n",
       "      <th>employ</th>\n",
       "      <th>retire</th>\n",
       "      <th>gender</th>\n",
       "      <th>reside</th>\n",
       "      <th>custcat</th>\n",
       "    </tr>\n",
       "  </thead>\n",
       "  <tbody>\n",
       "    <tr>\n",
       "      <td>region</td>\n",
       "      <td>1.000000</td>\n",
       "      <td>0.016388</td>\n",
       "      <td>0.015034</td>\n",
       "      <td>-0.080637</td>\n",
       "      <td>0.010320</td>\n",
       "      <td>0.023765</td>\n",
       "      <td>-0.057952</td>\n",
       "      <td>0.016335</td>\n",
       "      <td>0.005595</td>\n",
       "      <td>0.050596</td>\n",
       "      <td>-0.065158</td>\n",
       "      <td>-0.023771</td>\n",
       "    </tr>\n",
       "    <tr>\n",
       "      <td>tenure</td>\n",
       "      <td>0.016388</td>\n",
       "      <td>1.000000</td>\n",
       "      <td>0.490217</td>\n",
       "      <td>0.154171</td>\n",
       "      <td>0.522952</td>\n",
       "      <td>0.242912</td>\n",
       "      <td>-0.109797</td>\n",
       "      <td>0.520288</td>\n",
       "      <td>0.171143</td>\n",
       "      <td>0.023533</td>\n",
       "      <td>-0.036592</td>\n",
       "      <td>0.166691</td>\n",
       "    </tr>\n",
       "    <tr>\n",
       "      <td>age</td>\n",
       "      <td>0.015034</td>\n",
       "      <td>0.490217</td>\n",
       "      <td>1.000000</td>\n",
       "      <td>-0.014433</td>\n",
       "      <td>0.660435</td>\n",
       "      <td>0.327948</td>\n",
       "      <td>-0.154857</td>\n",
       "      <td>0.670047</td>\n",
       "      <td>0.429440</td>\n",
       "      <td>-0.011419</td>\n",
       "      <td>-0.254993</td>\n",
       "      <td>0.056909</td>\n",
       "    </tr>\n",
       "    <tr>\n",
       "      <td>marital</td>\n",
       "      <td>-0.080637</td>\n",
       "      <td>0.154171</td>\n",
       "      <td>-0.014433</td>\n",
       "      <td>1.000000</td>\n",
       "      <td>-0.012051</td>\n",
       "      <td>-0.043984</td>\n",
       "      <td>0.001400</td>\n",
       "      <td>-0.002891</td>\n",
       "      <td>-0.078109</td>\n",
       "      <td>0.008345</td>\n",
       "      <td>0.625999</td>\n",
       "      <td>0.083836</td>\n",
       "    </tr>\n",
       "    <tr>\n",
       "      <td>address</td>\n",
       "      <td>0.010320</td>\n",
       "      <td>0.522952</td>\n",
       "      <td>0.660435</td>\n",
       "      <td>-0.012051</td>\n",
       "      <td>1.000000</td>\n",
       "      <td>0.226781</td>\n",
       "      <td>-0.128330</td>\n",
       "      <td>0.463291</td>\n",
       "      <td>0.292503</td>\n",
       "      <td>0.008363</td>\n",
       "      <td>-0.201645</td>\n",
       "      <td>0.067913</td>\n",
       "    </tr>\n",
       "    <tr>\n",
       "      <td>income</td>\n",
       "      <td>0.023765</td>\n",
       "      <td>0.242912</td>\n",
       "      <td>0.327948</td>\n",
       "      <td>-0.043984</td>\n",
       "      <td>0.226781</td>\n",
       "      <td>1.000000</td>\n",
       "      <td>0.113939</td>\n",
       "      <td>0.516349</td>\n",
       "      <td>-0.083651</td>\n",
       "      <td>0.038706</td>\n",
       "      <td>-0.097591</td>\n",
       "      <td>0.134525</td>\n",
       "    </tr>\n",
       "    <tr>\n",
       "      <td>ed</td>\n",
       "      <td>-0.057952</td>\n",
       "      <td>-0.109797</td>\n",
       "      <td>-0.154857</td>\n",
       "      <td>0.001400</td>\n",
       "      <td>-0.128330</td>\n",
       "      <td>0.113939</td>\n",
       "      <td>1.000000</td>\n",
       "      <td>-0.228580</td>\n",
       "      <td>-0.114229</td>\n",
       "      <td>0.006704</td>\n",
       "      <td>0.021045</td>\n",
       "      <td>0.193864</td>\n",
       "    </tr>\n",
       "    <tr>\n",
       "      <td>employ</td>\n",
       "      <td>0.016335</td>\n",
       "      <td>0.520288</td>\n",
       "      <td>0.670047</td>\n",
       "      <td>-0.002891</td>\n",
       "      <td>0.463291</td>\n",
       "      <td>0.516349</td>\n",
       "      <td>-0.228580</td>\n",
       "      <td>1.000000</td>\n",
       "      <td>0.277401</td>\n",
       "      <td>0.046016</td>\n",
       "      <td>-0.134683</td>\n",
       "      <td>0.110011</td>\n",
       "    </tr>\n",
       "    <tr>\n",
       "      <td>retire</td>\n",
       "      <td>0.005595</td>\n",
       "      <td>0.171143</td>\n",
       "      <td>0.429440</td>\n",
       "      <td>-0.078109</td>\n",
       "      <td>0.292503</td>\n",
       "      <td>-0.083651</td>\n",
       "      <td>-0.114229</td>\n",
       "      <td>0.277401</td>\n",
       "      <td>1.000000</td>\n",
       "      <td>0.053906</td>\n",
       "      <td>-0.140120</td>\n",
       "      <td>0.008908</td>\n",
       "    </tr>\n",
       "    <tr>\n",
       "      <td>gender</td>\n",
       "      <td>0.050596</td>\n",
       "      <td>0.023533</td>\n",
       "      <td>-0.011419</td>\n",
       "      <td>0.008345</td>\n",
       "      <td>0.008363</td>\n",
       "      <td>0.038706</td>\n",
       "      <td>0.006704</td>\n",
       "      <td>0.046016</td>\n",
       "      <td>0.053906</td>\n",
       "      <td>1.000000</td>\n",
       "      <td>0.016556</td>\n",
       "      <td>-0.004966</td>\n",
       "    </tr>\n",
       "    <tr>\n",
       "      <td>reside</td>\n",
       "      <td>-0.065158</td>\n",
       "      <td>-0.036592</td>\n",
       "      <td>-0.254993</td>\n",
       "      <td>0.625999</td>\n",
       "      <td>-0.201645</td>\n",
       "      <td>-0.097591</td>\n",
       "      <td>0.021045</td>\n",
       "      <td>-0.134683</td>\n",
       "      <td>-0.140120</td>\n",
       "      <td>0.016556</td>\n",
       "      <td>1.000000</td>\n",
       "      <td>0.082022</td>\n",
       "    </tr>\n",
       "    <tr>\n",
       "      <td>custcat</td>\n",
       "      <td>-0.023771</td>\n",
       "      <td>0.166691</td>\n",
       "      <td>0.056909</td>\n",
       "      <td>0.083836</td>\n",
       "      <td>0.067913</td>\n",
       "      <td>0.134525</td>\n",
       "      <td>0.193864</td>\n",
       "      <td>0.110011</td>\n",
       "      <td>0.008908</td>\n",
       "      <td>-0.004966</td>\n",
       "      <td>0.082022</td>\n",
       "      <td>1.000000</td>\n",
       "    </tr>\n",
       "  </tbody>\n",
       "</table>\n",
       "</div>"
      ],
      "text/plain": [
       "           region    tenure       age   marital   address    income        ed  \\\n",
       "region   1.000000  0.016388  0.015034 -0.080637  0.010320  0.023765 -0.057952   \n",
       "tenure   0.016388  1.000000  0.490217  0.154171  0.522952  0.242912 -0.109797   \n",
       "age      0.015034  0.490217  1.000000 -0.014433  0.660435  0.327948 -0.154857   \n",
       "marital -0.080637  0.154171 -0.014433  1.000000 -0.012051 -0.043984  0.001400   \n",
       "address  0.010320  0.522952  0.660435 -0.012051  1.000000  0.226781 -0.128330   \n",
       "income   0.023765  0.242912  0.327948 -0.043984  0.226781  1.000000  0.113939   \n",
       "ed      -0.057952 -0.109797 -0.154857  0.001400 -0.128330  0.113939  1.000000   \n",
       "employ   0.016335  0.520288  0.670047 -0.002891  0.463291  0.516349 -0.228580   \n",
       "retire   0.005595  0.171143  0.429440 -0.078109  0.292503 -0.083651 -0.114229   \n",
       "gender   0.050596  0.023533 -0.011419  0.008345  0.008363  0.038706  0.006704   \n",
       "reside  -0.065158 -0.036592 -0.254993  0.625999 -0.201645 -0.097591  0.021045   \n",
       "custcat -0.023771  0.166691  0.056909  0.083836  0.067913  0.134525  0.193864   \n",
       "\n",
       "           employ    retire    gender    reside   custcat  \n",
       "region   0.016335  0.005595  0.050596 -0.065158 -0.023771  \n",
       "tenure   0.520288  0.171143  0.023533 -0.036592  0.166691  \n",
       "age      0.670047  0.429440 -0.011419 -0.254993  0.056909  \n",
       "marital -0.002891 -0.078109  0.008345  0.625999  0.083836  \n",
       "address  0.463291  0.292503  0.008363 -0.201645  0.067913  \n",
       "income   0.516349 -0.083651  0.038706 -0.097591  0.134525  \n",
       "ed      -0.228580 -0.114229  0.006704  0.021045  0.193864  \n",
       "employ   1.000000  0.277401  0.046016 -0.134683  0.110011  \n",
       "retire   0.277401  1.000000  0.053906 -0.140120  0.008908  \n",
       "gender   0.046016  0.053906  1.000000  0.016556 -0.004966  \n",
       "reside  -0.134683 -0.140120  0.016556  1.000000  0.082022  \n",
       "custcat  0.110011  0.008908 -0.004966  0.082022  1.000000  "
      ]
     },
     "execution_count": 23,
     "metadata": {},
     "output_type": "execute_result"
    }
   ],
   "source": [
    "df.corr()"
   ]
  },
  {
   "cell_type": "code",
   "execution_count": 30,
   "metadata": {},
   "outputs": [
    {
     "data": {
      "text/plain": [
       "<matplotlib.axes._subplots.AxesSubplot at 0x1a30dc7b10>"
      ]
     },
     "execution_count": 30,
     "metadata": {},
     "output_type": "execute_result"
    },
    {
     "data": {
      "image/png": "[encoded data removed]",
      "text/plain": [
       "<Figure size 432x288 with 1 Axes>"
      ]
     },
     "metadata": {},
     "output_type": "display_data"
    }
   ],
   "source": [
    "sns.distplot(df[\"income\"], bins=50, hist=True, kde=False)"
   ]
  },
  {
   "cell_type": "markdown",
   "metadata": {},
   "source": [
    "# Feature set"
   ]
  },
  {
   "cell_type": "code",
   "execution_count": 31,
   "metadata": {},
   "outputs": [
    {
     "data": {
      "text/plain": [
       "array([[  2.,  13.,  44.,   1.,   9.,  64.,   4.,   5.,   0.,   0.,   2.],\n",
       "       [  3.,  11.,  33.,   1.,   7., 136.,   5.,   5.,   0.,   0.,   6.],\n",
       "       [  3.,  68.,  52.,   1.,  24., 116.,   1.,  29.,   0.,   1.,   2.],\n",
       "       [  2.,  33.,  33.,   0.,  12.,  33.,   2.,   0.,   0.,   1.,   1.],\n",
       "       [  2.,  23.,  30.,   1.,   9.,  30.,   1.,   2.,   0.,   0.,   4.],\n",
       "       [  2.,  41.,  39.,   0.,  17.,  78.,   2.,  16.,   0.,   1.,   1.],\n",
       "       [  3.,  45.,  22.,   1.,   2.,  19.,   2.,   4.,   0.,   1.,   5.],\n",
       "       [  2.,  38.,  35.,   0.,   5.,  76.,   2.,  10.,   0.,   0.,   3.],\n",
       "       [  3.,  45.,  59.,   1.,   7., 166.,   4.,  31.,   0.,   0.,   5.],\n",
       "       [  1.,  68.,  41.,   1.,  21.,  72.,   1.,  22.,   0.,   0.,   3.]])"
      ]
     },
     "execution_count": 31,
     "metadata": {},
     "output_type": "execute_result"
    }
   ],
   "source": [
    "x = df[['region', 'tenure', 'age', 'marital', 'address', 'income', 'ed', 'employ', 'retire', 'gender', 'reside']].values\n",
    "x[0:10]"
   ]
  },
  {
   "cell_type": "code",
   "execution_count": 32,
   "metadata": {},
   "outputs": [
    {
     "data": {
      "text/plain": [
       "array([1, 4, 3, 1, 3, 3, 2, 4, 3, 2])"
      ]
     },
     "execution_count": 32,
     "metadata": {},
     "output_type": "execute_result"
    }
   ],
   "source": [
    "y= df['custcat'].values\n",
    "y[0:10]"
   ]
  },
  {
   "cell_type": "code",
   "execution_count": 33,
   "metadata": {},
   "outputs": [
    {
     "data": {
      "text/plain": [
       "array([[-0.02696767, -1.055125  ,  0.18450456,  1.0100505 , -0.25303431,\n",
       "        -0.12650641,  1.0877526 , -0.5941226 , -0.22207644, -1.03459817,\n",
       "        -0.23065004],\n",
       "       [ 1.19883553, -1.14880563, -0.69181243,  1.0100505 , -0.4514148 ,\n",
       "         0.54644972,  1.9062271 , -0.5941226 , -0.22207644, -1.03459817,\n",
       "         2.55666158],\n",
       "       [ 1.19883553,  1.52109247,  0.82182601,  1.0100505 ,  1.23481934,\n",
       "         0.35951747, -1.36767088,  1.78752803, -0.22207644,  0.96655883,\n",
       "        -0.23065004],\n",
       "       [-0.02696767, -0.11831864, -0.69181243, -0.9900495 ,  0.04453642,\n",
       "        -0.41625141, -0.54919639, -1.09029981, -0.22207644,  0.96655883,\n",
       "        -0.92747794],\n",
       "       [-0.02696767, -0.58672182, -0.93080797,  1.0100505 , -0.25303431,\n",
       "        -0.44429125, -1.36767088, -0.89182893, -0.22207644, -1.03459817,\n",
       "         1.16300577]])"
      ]
     },
     "execution_count": 33,
     "metadata": {},
     "output_type": "execute_result"
    }
   ],
   "source": [
    "x = preprocessing.StandardScaler().fit(x).transform(x.astype(float))\n",
    "x[0:5]"
   ]
  },
  {
   "cell_type": "code",
   "execution_count": 35,
   "metadata": {},
   "outputs": [
    {
     "name": "stdout",
     "output_type": "stream",
     "text": [
      "Train set:  (700, 11) (700,)\n",
      "Test set:  (300, 11) (300,)\n"
     ]
    }
   ],
   "source": [
    "from sklearn.model_selection import train_test_split\n",
    "X_train, X_test, y_train, y_test = train_test_split(x, y, test_size=0.3, random_state=4)\n",
    "print(\"Train set: \", X_train.shape, y_train.shape)\n",
    "print(\"Test set: \", X_test.shape, y_test.shape)"
   ]
  },
  {
   "cell_type": "markdown",
   "metadata": {},
   "source": [
    "# KNN Classification"
   ]
  },
  {
   "cell_type": "code",
   "execution_count": 50,
   "metadata": {},
   "outputs": [],
   "source": [
    "from sklearn.neighbors import KNeighborsClassifier\n",
    "from sklearn import metrics"
   ]
  },
  {
   "cell_type": "code",
   "execution_count": 58,
   "metadata": {},
   "outputs": [],
   "source": [
    "acc_score = []\n",
    "for i in range(1, 11):\n",
    "    knn = KNeighborsClassifier(n_neighbors = i).fit(X_train, y_train)\n",
    "    yhat = knn.predict(X_test)\n",
    "    acc_score.append(metrics.accuracy_score(y_test, yhat))"
   ]
  },
  {
   "cell_type": "code",
   "execution_count": 59,
   "metadata": {
    "scrolled": true
   },
   "outputs": [
    {
     "data": {
      "text/html": [
       "<div>\n",
       "<style scoped>\n",
       "    .dataframe tbody tr th:only-of-type {\n",
       "        vertical-align: middle;\n",
       "    }\n",
       "\n",
       "    .dataframe tbody tr th {\n",
       "        vertical-align: top;\n",
       "    }\n",
       "\n",
       "    .dataframe thead th {\n",
       "        text-align: right;\n",
       "    }\n",
       "</style>\n",
       "<table border=\"1\" class=\"dataframe\">\n",
       "  <thead>\n",
       "    <tr style=\"text-align: right;\">\n",
       "      <th></th>\n",
       "      <th>0</th>\n",
       "    </tr>\n",
       "  </thead>\n",
       "  <tbody>\n",
       "    <tr>\n",
       "      <td>0</td>\n",
       "      <td>0.280000</td>\n",
       "    </tr>\n",
       "    <tr>\n",
       "      <td>1</td>\n",
       "      <td>0.273333</td>\n",
       "    </tr>\n",
       "    <tr>\n",
       "      <td>2</td>\n",
       "      <td>0.306667</td>\n",
       "    </tr>\n",
       "    <tr>\n",
       "      <td>3</td>\n",
       "      <td>0.330000</td>\n",
       "    </tr>\n",
       "    <tr>\n",
       "      <td>4</td>\n",
       "      <td>0.340000</td>\n",
       "    </tr>\n",
       "    <tr>\n",
       "      <td>5</td>\n",
       "      <td>0.316667</td>\n",
       "    </tr>\n",
       "    <tr>\n",
       "      <td>6</td>\n",
       "      <td>0.340000</td>\n",
       "    </tr>\n",
       "    <tr>\n",
       "      <td>7</td>\n",
       "      <td>0.316667</td>\n",
       "    </tr>\n",
       "    <tr>\n",
       "      <td>8</td>\n",
       "      <td>0.326667</td>\n",
       "    </tr>\n",
       "    <tr>\n",
       "      <td>9</td>\n",
       "      <td>0.336667</td>\n",
       "    </tr>\n",
       "  </tbody>\n",
       "</table>\n",
       "</div>"
      ],
      "text/plain": [
       "          0\n",
       "0  0.280000\n",
       "1  0.273333\n",
       "2  0.306667\n",
       "3  0.330000\n",
       "4  0.340000\n",
       "5  0.316667\n",
       "6  0.340000\n",
       "7  0.316667\n",
       "8  0.326667\n",
       "9  0.336667"
      ]
     },
     "execution_count": 59,
     "metadata": {},
     "output_type": "execute_result"
    }
   ],
   "source": [
    "acc = pd.DataFrame(acc_score)\n",
    "acc"
   ]
  },
  {
   "cell_type": "code",
   "execution_count": 61,
   "metadata": {},
   "outputs": [
    {
     "data": {
      "text/plain": [
       "Text(0, 0.5, 'Accuracy')"
      ]
     },
     "execution_count": 61,
     "metadata": {},
     "output_type": "execute_result"
    },
    {
     "data": {
      "image/png": "[encoded data removed]",
      "text/plain": [
       "<Figure size 864x576 with 1 Axes>"
      ]
     },
     "metadata": {},
     "output_type": "display_data"
    }
   ],
   "source": [
    "plt.figure(figsize=(12,8))\n",
    "plt.plot(range(1,11), acc_score, linestyle='--', color='blue', marker='o', mfc='red', ms=5)\n",
    "plt.title(\"Accuracy Score\")\n",
    "plt.xlabel(\"Range\")\n",
    "plt.ylabel(\"Accuracy\")"
   ]
  },
  {
   "cell_type": "markdown",
   "metadata": {},
   "source": [
    "# Model Development"
   ]
  },
  {
   "cell_type": "code",
   "execution_count": 62,
   "metadata": {},
   "outputs": [
    {
     "data": {
      "text/plain": [
       "array([3, 3, 4, 2, 4, 3, 3, 4, 3, 4, 1, 4, 3, 2, 2, 1, 4, 4, 3, 1, 3, 2,\n",
       "       1, 4, 1, 3, 1, 1, 1, 1, 3, 1, 4, 2, 1, 2, 3, 1, 2, 4, 3, 4, 3, 1,\n",
       "       4, 1, 3, 1, 4, 4, 2, 1, 2, 1, 2, 2, 4, 3, 1, 4, 1, 4, 2, 1, 3, 3,\n",
       "       1, 2, 2, 1, 3, 3, 4, 3, 1, 1, 4, 1, 4, 3, 3, 1, 2, 4, 4, 1, 3, 1,\n",
       "       1, 1, 1, 1, 1, 1, 1, 1, 2, 1, 1, 3, 3, 4, 3, 1, 1, 4, 2, 2, 2, 2,\n",
       "       1, 3, 2, 1, 1, 2, 1, 3, 2, 3, 4, 3, 2, 3, 1, 2, 4, 3, 3, 3, 2, 1,\n",
       "       1, 4, 3, 2, 4, 1, 1, 2, 1, 3, 4, 3, 1, 2, 1, 1, 2, 2, 1, 4, 4, 2,\n",
       "       2, 3, 3, 3, 3, 4, 2, 1, 2, 1, 1, 4, 1, 1, 3, 1, 2, 4, 4, 2, 4, 2,\n",
       "       1, 4, 1, 1, 3, 3, 1, 3, 3, 1, 3, 1, 4, 4, 3, 1, 4, 3, 3, 4, 1, 3,\n",
       "       2, 1, 2, 3, 3, 1, 1, 1, 3, 1, 4, 2, 1, 1, 2, 3, 3, 3, 2, 3, 1, 1,\n",
       "       4, 3, 1, 2, 1, 3, 1, 4, 4, 1, 2, 2, 1, 1, 2, 2, 1, 2, 4, 4, 3, 4,\n",
       "       4, 1, 2, 3, 4, 1, 2, 2, 4, 1, 4, 2, 4, 1, 1, 2, 4, 2, 2, 1, 2, 2,\n",
       "       2, 3, 1, 3, 1, 1, 3, 1, 3, 2, 3, 3, 4, 3, 3, 1, 2, 4, 4, 4, 1, 2,\n",
       "       4, 3, 3, 1, 1, 1, 4, 1, 3, 3, 4, 1, 1, 3])"
      ]
     },
     "execution_count": 62,
     "metadata": {},
     "output_type": "execute_result"
    }
   ],
   "source": [
    "k = 7\n",
    "knn = KNeighborsClassifier(n_neighbors = k).fit(X_train, y_train)\n",
    "yhat1 = knn.predict(X_test)\n",
    "yhat1"
   ]
  },
  {
   "cell_type": "code",
   "execution_count": 63,
   "metadata": {},
   "outputs": [
    {
     "name": "stdout",
     "output_type": "stream",
     "text": [
      "Test set accuracy:  0.34\n"
     ]
    }
   ],
   "source": [
    "print(\"Test set accuracy: \", metrics.accuracy_score(y_test, yhat1))"
   ]
  },
  {
   "cell_type": "code",
   "execution_count": null,
   "metadata": {},
   "outputs": [],
   "source": []
  }
 ],
 "metadata": {
  "kernelspec": {
   "display_name": "Python 3",
   "language": "python",
   "name": "python3"
  },
  "language_info": {
   "codemirror_mode": {
    "name": "ipython",
    "version": 3
   },
   "file_extension": ".py",
   "mimetype": "text/x-python",
   "name": "python",
   "nbconvert_exporter": "python",
   "pygments_lexer": "ipython3",
   "version": "3.7.4"
  }
 },
 "nbformat": 4,
 "nbformat_minor": 2
}
